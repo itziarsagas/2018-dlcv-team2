{
 "cells": [
  {
   "cell_type": "code",
   "execution_count": 18,
   "metadata": {},
   "outputs": [],
   "source": [
    "from __future__ import print_function\n",
    "import argparse\n",
    "import os\n",
    "\n",
    "from IPython.display import Image\n",
    "\n",
    "import torch\n",
    "from torch.autograd import Variable\n",
    "import torchvision.transforms as transforms\n",
    "\n",
    "from util import is_image_file, load_img, save_img"
   ]
  },
  {
   "cell_type": "code",
   "execution_count": 19,
   "metadata": {},
   "outputs": [],
   "source": [
    "cuda = True\n",
    "#we load the generator\n",
    "netG = torch.load(\"checkpoint/facades/netG_model_epoch_200.pth\")"
   ]
  },
  {
   "cell_type": "code",
   "execution_count": 20,
   "metadata": {},
   "outputs": [],
   "source": [
    "#read the black and white image\n",
    "image_dir = \"dataset/facades/jupyter/\"\n",
    "image_filenames = [x for x in os.listdir(image_dir) if is_image_file(x)]\n",
    "\n",
    "transform_list = [transforms.ToTensor(),\n",
    "                  transforms.Normalize((0.5, 0.5, 0.5), (0.5, 0.5, 0.5))]\n",
    "\n",
    "transform = transforms.Compose(transform_list)\n"
   ]
  },
  {
   "cell_type": "code",
   "execution_count": 21,
   "metadata": {},
   "outputs": [
    {
     "name": "stdout",
     "output_type": "stream",
     "text": [
      "Image saved as result/jupyter/cmp_b0201.jpg\n"
     ]
    }
   ],
   "source": [
    "for image_name in image_filenames:\n",
    "    img = load_img(image_dir + image_name)\n",
    "    img = transform(img)\n",
    "    input = Variable(img).view(1, -1, 256, 256)\n",
    "\n",
    "    if cuda:\n",
    "        netG = netG.cuda()\n",
    "        input = input.cuda()\n",
    "\n",
    "    out = netG(input)\n",
    "    out = out.cpu()\n",
    "    out_img = out.data[0]\n",
    "    if not os.path.exists(os.path.join(\"result/jupyter\")):\n",
    "        os.makedirs(os.path.join(\"result/jupyter\"))\n",
    "    save_img(out_img, \"result/jupyter/{}\".format(image_name))"
   ]
  },
  {
   "cell_type": "code",
   "execution_count": 24,
   "metadata": {},
   "outputs": [
    {
     "name": "stdout",
     "output_type": "stream",
     "text": [
      "/bin/sh: 1: Syntax error: word unexpected (expecting \")\")\r\n"
     ]
    }
   ],
   "source": [
    "Image(\"result/jupyter/{}\".format(image_name))\n",
    "\n",
    "![title](result/jupyter/image_name))"
   ]
  }
 ],
 "metadata": {
  "kernelspec": {
   "display_name": "Python 3",
   "language": "python",
   "name": "python3"
  },
  "language_info": {
   "codemirror_mode": {
    "name": "ipython",
    "version": 3
   },
   "file_extension": ".py",
   "mimetype": "text/x-python",
   "name": "python",
   "nbconvert_exporter": "python",
   "pygments_lexer": "ipython3",
   "version": "3.6.5"
  }
 },
 "nbformat": 4,
 "nbformat_minor": 2
}
